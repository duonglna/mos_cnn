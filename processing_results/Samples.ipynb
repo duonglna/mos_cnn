{
 "cells": [
  {
   "cell_type": "code",
   "execution_count": 1,
   "metadata": {},
   "outputs": [],
   "source": [
    "from process_raw_data import AllData\n",
    "import pandas as pd"
   ]
  },
  {
   "cell_type": "code",
   "execution_count": 3,
   "metadata": {},
   "outputs": [
    {
     "data": {
      "text/plain": [
       "'/home/adam/VecTech/repos/algorithm-paper-results'"
      ]
     },
     "execution_count": 3,
     "metadata": {},
     "output_type": "execute_result"
    }
   ],
   "source": [
    "pwd"
   ]
  },
  {
   "cell_type": "code",
   "execution_count": 5,
   "metadata": {},
   "outputs": [
    {
     "name": "stdout",
     "output_type": "stream",
     "text": [
      "run75/full\n",
      "run75/full/results_fold3_seed4.csv A\n",
      "run75/full/results_fold3_seed4.csv B\n",
      "run75/full/results_fold3_seed4.csv C\n"
     ]
    },
    {
     "name": "stderr",
     "output_type": "stream",
     "text": [
      "/home/adam/VecTech/repos/algorithm-paper-results/process_raw_data.py:108: RuntimeWarning: invalid value encountered in true_divide\n",
      "  self.specimen_norm_confusion_stdev = self.specimen_norm_confusion_stdev/(self.specimen_cnt-1)\n"
     ]
    },
    {
     "name": "stdout",
     "output_type": "stream",
     "text": [
      "run75/full/results_fold3_seed4.csv D\n",
      "run75/full/results_fold5_seed3.csv A\n",
      "run75/full/results_fold5_seed3.csv B\n",
      "run75/full/results_fold5_seed3.csv C\n",
      "run75/full/results_fold5_seed3.csv D\n",
      "run75/full/results_fold1_seed3.csv A\n",
      "run75/full/results_fold1_seed3.csv B\n",
      "run75/full/results_fold1_seed3.csv C\n",
      "run75/full/results_fold1_seed3.csv D\n",
      "run75/full/results_fold2_seed3.csv A\n",
      "run75/full/results_fold2_seed3.csv B\n",
      "run75/full/results_fold2_seed3.csv C\n",
      "run75/full/results_fold2_seed3.csv D\n",
      "run75/full/results_fold4_seed4.csv A\n",
      "run75/full/results_fold4_seed4.csv B\n",
      "run75/full/results_fold4_seed4.csv C\n",
      "run75/full/results_fold4_seed4.csv D\n",
      "run75/full/results_fold2_seed0.csv A\n",
      "run75/full/results_fold2_seed0.csv B\n",
      "run75/full/results_fold2_seed0.csv C\n",
      "run75/full/results_fold2_seed0.csv D\n",
      "run75/full/results_fold3_seed3.csv A\n",
      "run75/full/results_fold3_seed3.csv B\n",
      "run75/full/results_fold3_seed3.csv C\n",
      "run75/full/results_fold3_seed3.csv D\n",
      "run75/full/results_fold2_seed4.csv A\n",
      "run75/full/results_fold2_seed4.csv B\n",
      "run75/full/results_fold2_seed4.csv C\n",
      "run75/full/results_fold2_seed4.csv D\n",
      "run75/full/results_fold2_seed2.csv A\n",
      "run75/full/results_fold2_seed2.csv B\n",
      "run75/full/results_fold2_seed2.csv C\n",
      "run75/full/results_fold2_seed2.csv D\n",
      "run75/full/results_fold4_seed2.csv A\n",
      "run75/full/results_fold4_seed2.csv B\n",
      "run75/full/results_fold4_seed2.csv C\n",
      "run75/full/results_fold4_seed2.csv D\n",
      "run75/full/results_fold1_seed2.csv A\n",
      "run75/full/results_fold1_seed2.csv B\n",
      "run75/full/results_fold1_seed2.csv C\n",
      "run75/full/results_fold1_seed2.csv D\n",
      "run75/full/results_fold1_seed0.csv A\n",
      "run75/full/results_fold1_seed0.csv B\n",
      "run75/full/results_fold1_seed0.csv C\n",
      "run75/full/results_fold1_seed0.csv D\n",
      "run75/full/results_fold2_seed1.csv A\n",
      "run75/full/results_fold2_seed1.csv B\n",
      "run75/full/results_fold2_seed1.csv C\n",
      "run75/full/results_fold2_seed1.csv D\n",
      "run75/full/results_fold4_seed0.csv A\n",
      "run75/full/results_fold4_seed0.csv B\n",
      "run75/full/results_fold4_seed0.csv C\n",
      "run75/full/results_fold4_seed0.csv D\n",
      "run75/full/results_fold4_seed3.csv A\n",
      "run75/full/results_fold4_seed3.csv B\n",
      "run75/full/results_fold4_seed3.csv C\n",
      "run75/full/results_fold4_seed3.csv D\n",
      "run75/full/results_fold5_seed2.csv A\n",
      "run75/full/results_fold5_seed2.csv B\n",
      "run75/full/results_fold5_seed2.csv C\n",
      "run75/full/results_fold5_seed2.csv D\n",
      "run75/full/results_fold3_seed2.csv A\n",
      "run75/full/results_fold3_seed2.csv B\n",
      "run75/full/results_fold3_seed2.csv C\n",
      "run75/full/results_fold3_seed2.csv D\n",
      "run75/full/results_fold5_seed0.csv A\n",
      "run75/full/results_fold5_seed0.csv B\n",
      "run75/full/results_fold5_seed0.csv C\n",
      "run75/full/results_fold5_seed0.csv D\n",
      "run75/full/results_fold5_seed4.csv A\n",
      "run75/full/results_fold5_seed4.csv B\n",
      "run75/full/results_fold5_seed4.csv C\n",
      "run75/full/results_fold5_seed4.csv D\n",
      "run75/full/results_fold1_seed1.csv A\n",
      "run75/full/results_fold1_seed1.csv B\n",
      "run75/full/results_fold1_seed1.csv C\n",
      "run75/full/results_fold1_seed1.csv D\n",
      "run75/full/results_fold1_seed4.csv A\n",
      "run75/full/results_fold1_seed4.csv B\n",
      "run75/full/results_fold1_seed4.csv C\n",
      "run75/full/results_fold1_seed4.csv D\n",
      "run75/full/results_fold3_seed0.csv A\n",
      "run75/full/results_fold3_seed0.csv B\n",
      "run75/full/results_fold3_seed0.csv C\n",
      "run75/full/results_fold3_seed0.csv D\n",
      "run75/full/results_fold5_seed1.csv A\n",
      "run75/full/results_fold5_seed1.csv B\n",
      "run75/full/results_fold5_seed1.csv C\n",
      "run75/full/results_fold5_seed1.csv D\n",
      "run75/full/results_fold4_seed1.csv A\n",
      "run75/full/results_fold4_seed1.csv B\n",
      "run75/full/results_fold4_seed1.csv C\n",
      "run75/full/results_fold4_seed1.csv D\n",
      "run75/full/results_fold3_seed1.csv A\n",
      "run75/full/results_fold3_seed1.csv B\n",
      "run75/full/results_fold3_seed1.csv C\n",
      "run75/full/results_fold3_seed1.csv D\n",
      "Seed count:  25\n"
     ]
    }
   ],
   "source": [
    "all_results= ['run75/full',2]\n",
    "alldata = AllData(all_results[0],all_results[1])"
   ]
  },
  {
   "cell_type": "code",
   "execution_count": 11,
   "metadata": {},
   "outputs": [],
   "source": [
    "SETS= ['A', 'B', 'C', 'D']\n",
    "col_dict = {}\n",
    "for seed in alldata.seeds:\n",
    "    col_dict[seed.fold+seed.name]=[]\n",
    "    for group in SETS:\n",
    "        col_dict[seed.fold+seed.name].append(seed.data[group].taxa_cnt)\n",
    "        col_dict[seed.fold+seed.name].append(seed.data[group].image_cnt)\n"
   ]
  },
  {
   "cell_type": "code",
   "execution_count": 20,
   "metadata": {},
   "outputs": [
    {
     "name": "stdout",
     "output_type": "stream",
     "text": [
      "[16, 683, 8, 51, 10, 536, 13, 456]\n",
      "[16, 673, 8, 51, 9, 537, 13, 485]\n",
      "[16, 673, 8, 51, 8, 523, 13, 508]\n",
      "[16, 673, 8, 46, 6, 159, 11, 869]\n",
      "[16, 694, 8, 51, 7, 483, 10, 548]\n",
      "[15, 409, 9, 62, 11, 2906, 8, 546]\n",
      "[15, 456, 9, 62, 9, 2458, 12, 1024]\n",
      "[15, 456, 10, 67, 13, 2359, 9, 1115]\n",
      "[15, 456, 9, 62, 8, 3189, 12, 306]\n",
      "[15, 456, 10, 67, 10, 2874, 10, 601]\n",
      "[16, 543, 10, 56, 12, 1450, 10, 1052]\n",
      "[16, 484, 9, 52, 11, 2141, 10, 312]\n",
      "[16, 492, 10, 54, 11, 2185, 12, 263]\n",
      "[16, 512, 8, 45, 15, 2292, 10, 189]\n",
      "[16, 480, 9, 49, 9, 1652, 13, 790]\n",
      "[16, 442, 9, 44, 11, 1253, 11, 665]\n",
      "[16, 494, 10, 54, 14, 1727, 10, 228]\n",
      "[16, 442, 9, 55, 13, 1803, 10, 96]\n",
      "[16, 538, 10, 60, 8, 1509, 9, 502]\n",
      "[16, 489, 10, 60, 13, 1764, 9, 184]\n",
      "[16, 462, 8, 47, 13, 1415, 11, 452]\n",
      "[16, 437, 8, 54, 9, 1548, 11, 320]\n",
      "[16, 447, 8, 55, 11, 654, 10, 1193]\n",
      "[16, 547, 8, 44, 9, 1437, 11, 531]\n",
      "[16, 548, 7, 52, 7, 1464, 11, 499]\n"
     ]
    }
   ],
   "source": [
    "FOLDS=[1,2,3,4,5]\n",
    "SEEDS=[0,1,2,3,4]\n",
    "rows=['K - taxa','K - samples','U1 - taxa','U1 - samples','U2 - taxa','U2 - samples','N - taxa','N - samples']\n",
    "df = pd.DataFrame(rows, )\n",
    "df.columns = ['Set']\n",
    "# df\n",
    "for f in FOLDS:\n",
    "    for s in SEEDS:\n",
    "        df['fold{}seed{}'.format(f,s)]=col_dict['fold{}seed{}'.format(f,s)]\n",
    "        print(col_dict['fold{}seed{}'.format(f,s)])"
   ]
  },
  {
   "cell_type": "code",
   "execution_count": 19,
   "metadata": {},
   "outputs": [],
   "source": [
    "df.to_csv('sample_data.csv')"
   ]
  },
  {
   "cell_type": "code",
   "execution_count": null,
   "metadata": {},
   "outputs": [],
   "source": []
  }
 ],
 "metadata": {
  "kernelspec": {
   "display_name": "Python 3",
   "language": "python",
   "name": "python3"
  },
  "language_info": {
   "codemirror_mode": {
    "name": "ipython",
    "version": 3
   },
   "file_extension": ".py",
   "mimetype": "text/x-python",
   "name": "python",
   "nbconvert_exporter": "python",
   "pygments_lexer": "ipython3",
   "version": "3.7.5"
  }
 },
 "nbformat": 4,
 "nbformat_minor": 4
}
