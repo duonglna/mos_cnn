{
 "cells": [
  {
   "cell_type": "code",
   "execution_count": 25,
   "metadata": {},
   "outputs": [],
   "source": [
    "\n",
    "import pandas as pd\n",
    "import matplotlib.pyplot as plt\n",
    "import numpy as np\n",
    "import math\n",
    "import sys\n",
    "\n",
    "from sklearn.metrics import accuracy_score, f1_score, confusion_matrix\n",
    "from sklearn.utils.multiclass import unique_labels"
   ]
  },
  {
   "cell_type": "code",
   "execution_count": 26,
   "metadata": {},
   "outputs": [],
   "source": [
    "FOLDS=[1,2,3,4,5]\n",
    "SEEDS=[0,1,2,3,4]\n",
    "# FOLDS=[1]\n",
    "# SEEDS=[0]\n",
    "SPLIT_LU={'A':'K test','B':'U1 test','C':'U2 test','D':'N','train':'train'}\n",
    "datasplit_fields=['Id','Split']\n",
    "datasplit_path='datasplits/split_fold{}.csv'"
   ]
  },
  {
   "cell_type": "code",
   "execution_count": 17,
   "metadata": {
    "scrolled": true
   },
   "outputs": [
    {
     "name": "stdout",
     "output_type": "stream",
     "text": [
      "Fold1-seed0\n",
      "Fold1-seed1\n",
      "Fold1-seed2\n",
      "Fold1-seed3\n",
      "Fold1-seed4\n",
      "Fold2-seed0\n",
      "Fold2-seed1\n",
      "Fold2-seed2\n",
      "Fold2-seed3\n",
      "Fold2-seed4\n",
      "Fold3-seed0\n",
      "Fold3-seed1\n",
      "Fold3-seed2\n",
      "Fold3-seed3\n",
      "Fold3-seed4\n",
      "Fold4-seed0\n",
      "Fold4-seed1\n",
      "Fold4-seed2\n",
      "Fold4-seed3\n",
      "Fold4-seed4\n",
      "Fold5-seed0\n",
      "Fold5-seed1\n",
      "Fold5-seed2\n",
      "Fold5-seed3\n",
      "Fold5-seed4\n"
     ]
    }
   ],
   "source": [
    "train_test=0\n",
    "df = pd.read_csv(datasplit_path.format(1), usecols=datasplit_fields).replace('ExtendedTest','')\n",
    "df = df.rename(columns={'Split': 'Fold{}-TierI'.format(1)})\n",
    "\n",
    "for fold in FOLDS:\n",
    "    if fold != 1:\n",
    "        datasplit = pd.read_csv(datasplit_path.format(fold),usecols=datasplit_fields).replace('ExtendedTest','')\n",
    "        df['Fold{}-TierI'.format(fold)] = datasplit['Split']\n",
    "    for seed in SEEDS:\n",
    "        train_test = pd.read_csv('run75/train_test_splits/ttsplits_run75_fold{}_seed{}.csv'.format(fold,seed))\n",
    "        col = 'Fold{}-seed{}'.format(fold,seed)\n",
    "        df[col] = \"\"\n",
    "        print(col)\n",
    "        for i,img in enumerate(train_test['Id']):\n",
    "            df[col][df[df['Id']==img].index.values]=SPLIT_LU[train_test['split'][i]]\n"
   ]
  },
  {
   "cell_type": "code",
   "execution_count": 21,
   "metadata": {},
   "outputs": [],
   "source": [
    "df.to_csv('Supplimental Information - Datasplits.csv')"
   ]
  },
  {
   "cell_type": "code",
   "execution_count": 32,
   "metadata": {
    "scrolled": true
   },
   "outputs": [],
   "source": [
    "# train_test=0\n",
    "datasplit_path='bigset/datasplit_fold{}big.csv'\n",
    "df = pd.read_csv(datasplit_path.format(1), usecols=['Id','Split','Species_Name']).replace('ExtendedTest','')\n",
    "# df = df.rename(columns={'Split': 'Fold{}-TierI'.format(1)})\n",
    "species = {}\n",
    "for fold in FOLDS:\n",
    "    df = pd.read_csv(datasplit_path.format(fold), usecols=['Id','Split','Species_Name']).replace('ExtendedTest','')\n",
    "    df = df[df['Split']=='Test']\n",
    "    for i in range(len(df)):\n",
    "        sp = df['Species_Name'].iloc[i]\n",
    "        if sp not in species.keys():\n",
    "            species[sp]=[0,0,0,0,0]\n",
    "        species[sp][fold-1]+=1"
   ]
  },
  {
   "cell_type": "code",
   "execution_count": 33,
   "metadata": {
    "scrolled": true
   },
   "outputs": [
    {
     "data": {
      "text/plain": [
       "{'aedes_aegypti': [131, 127, 127, 124, 133],\n",
       " 'aedes_albopictus': [99, 99, 107, 97, 95],\n",
       " 'aedes_atlanticus': [15, 13, 14, 14, 15],\n",
       " 'aedes_canadensis': [17, 21, 21, 21, 20],\n",
       " 'aedes_dorsalis': [42, 41, 43, 40, 43],\n",
       " 'aedes_flavescens': [13, 14, 14, 14, 14],\n",
       " 'aedes_infirmatus': [17, 15, 19, 18, 16],\n",
       " 'aedes_japonicus': [155, 153, 151, 160, 150],\n",
       " 'aedes_nigromaculis': [6, 6, 5, 5, 5],\n",
       " 'aedes_sollicitans': [63, 61, 58, 57, 60],\n",
       " 'aedes_taeniorhynchus': [30, 25, 27, 25, 25],\n",
       " 'aedes_spp': [6, 5, 6, 5, 5],\n",
       " 'aedes_triseriatus': [14, 16, 17, 14, 13],\n",
       " 'aedes_trivittatus': [28, 24, 25, 24, 23],\n",
       " 'aedes_vexans': [46, 58, 57, 51, 50],\n",
       " 'anopheles_spp': [22, 22, 19, 19, 19],\n",
       " 'anopheles_coustani': [25, 32, 27, 33, 27],\n",
       " 'anopheles_crucians': [64, 57, 60, 59, 62],\n",
       " 'anopheles_freeborni': [85, 77, 82, 74, 89],\n",
       " 'anopheles_funestus': [181, 187, 166, 175, 161],\n",
       " 'anopheles_gambiae': [191, 182, 178, 185, 194],\n",
       " 'anopheles_pseudopunctipennis': [10, 8, 12, 9, 9],\n",
       " 'anopheles_punctipennis': [32, 28, 38, 32, 32],\n",
       " 'anopheles_quadrimaculatus': [30, 33, 26, 37, 35],\n",
       " 'coquillettidia_perturbans': [31, 29, 30, 32, 35],\n",
       " 'culex_coronator': [10, 9, 10, 11, 10],\n",
       " 'culex_erraticus': [48, 51, 49, 53, 50],\n",
       " 'culex_nigripalpus': [14, 14, 13, 13, 13],\n",
       " 'culex_pipiens_sl': [205, 203, 216, 208, 216],\n",
       " 'culex_restuans': [12, 13, 12, 14, 12],\n",
       " 'culex_salinarius': [24, 25, 24, 23, 24],\n",
       " 'culiseta_incidens': [9, 9, 9, 9, 8],\n",
       " 'culiseta_inornata': [9, 9, 8, 9, 9],\n",
       " 'deinocerites_cancer': [10, 10, 10, 10, 9],\n",
       " 'deinocerites_cuba-1': [16, 14, 15, 14, 15],\n",
       " 'mansonia_titillans': [15, 16, 15, 14, 13],\n",
       " 'psorophora_ciliata': [29, 26, 24, 23, 28],\n",
       " 'psorophora_columbiae': [62, 59, 63, 60, 61],\n",
       " 'psorophora_cyanescens': [55, 54, 57, 55, 55],\n",
       " 'psorophora_ferox': [32, 48, 31, 36, 34],\n",
       " 'psorophora_pygmaea': [24, 25, 25, 24, 25],\n",
       " 'psorophora_spp': [5, 5, 5, 5, 4]}"
      ]
     },
     "execution_count": 33,
     "metadata": {},
     "output_type": "execute_result"
    }
   ],
   "source": [
    "species"
   ]
  },
  {
   "cell_type": "code",
   "execution_count": 3,
   "metadata": {},
   "outputs": [],
   "source": [
    "import pandas as pd\n",
    "datasplit_path='bigset/datasplit_fold{}big.csv'\n",
    "df = pd.read_csv(datasplit_path.format(1), usecols=['Id'])\n",
    "unique_specimens=[]\n",
    "for i in range(len(df)):\n",
    "    sp = df['Id'].iloc[i]\n",
    "    fname = sp.split('/')[-1]\n",
    "    specimen=fname.split('_')[0]\n",
    "    if specimen not in unique_specimens:\n",
    "        unique_specimens.append(specimen)"
   ]
  },
  {
   "cell_type": "code",
   "execution_count": 4,
   "metadata": {},
   "outputs": [
    {
     "ename": "AttributeError",
     "evalue": "module 'pandas' has no attribute 'Dataframe'",
     "output_type": "error",
     "traceback": [
      "\u001b[0;31m---------------------------------------------------------------------------\u001b[0m",
      "\u001b[0;31mAttributeError\u001b[0m                            Traceback (most recent call last)",
      "\u001b[0;32m<ipython-input-4-e1c24a7d9ae8>\u001b[0m in \u001b[0;36m<module>\u001b[0;34m\u001b[0m\n\u001b[0;32m----> 1\u001b[0;31m \u001b[0mnew_df\u001b[0m \u001b[0;34m=\u001b[0m \u001b[0mpd\u001b[0m\u001b[0;34m.\u001b[0m\u001b[0mDataframe\u001b[0m\u001b[0;34m(\u001b[0m\u001b[0munique_specimens\u001b[0m\u001b[0;34m)\u001b[0m\u001b[0;34m\u001b[0m\u001b[0;34m\u001b[0m\u001b[0m\n\u001b[0m",
      "\u001b[0;32m~/.virtualenvs/dev/lib/python3.8/site-packages/pandas/__init__.py\u001b[0m in \u001b[0;36m__getattr__\u001b[0;34m(name)\u001b[0m\n\u001b[1;32m    256\u001b[0m             \u001b[0;32mreturn\u001b[0m \u001b[0m_SparseArray\u001b[0m\u001b[0;34m\u001b[0m\u001b[0;34m\u001b[0m\u001b[0m\n\u001b[1;32m    257\u001b[0m \u001b[0;34m\u001b[0m\u001b[0m\n\u001b[0;32m--> 258\u001b[0;31m         \u001b[0;32mraise\u001b[0m \u001b[0mAttributeError\u001b[0m\u001b[0;34m(\u001b[0m\u001b[0;34mf\"module 'pandas' has no attribute '{name}'\"\u001b[0m\u001b[0;34m)\u001b[0m\u001b[0;34m\u001b[0m\u001b[0;34m\u001b[0m\u001b[0m\n\u001b[0m\u001b[1;32m    259\u001b[0m \u001b[0;34m\u001b[0m\u001b[0m\n\u001b[1;32m    260\u001b[0m \u001b[0;34m\u001b[0m\u001b[0m\n",
      "\u001b[0;31mAttributeError\u001b[0m: module 'pandas' has no attribute 'Dataframe'"
     ]
    }
   ],
   "source": [
    "new_df = pd.Dataframe(unique_specimens)"
   ]
  },
  {
   "cell_type": "code",
   "execution_count": null,
   "metadata": {},
   "outputs": [],
   "source": []
  }
 ],
 "metadata": {
  "kernelspec": {
   "display_name": "Python 3",
   "language": "python",
   "name": "python3"
  },
  "language_info": {
   "codemirror_mode": {
    "name": "ipython",
    "version": 3
   },
   "file_extension": ".py",
   "mimetype": "text/x-python",
   "name": "python",
   "nbconvert_exporter": "python",
   "pygments_lexer": "ipython3",
   "version": "3.7.5"
  }
 },
 "nbformat": 4,
 "nbformat_minor": 4
}
