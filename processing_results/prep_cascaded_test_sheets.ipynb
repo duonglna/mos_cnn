{
 "cells": [
  {
   "cell_type": "code",
   "execution_count": 1,
   "metadata": {
    "scrolled": false
   },
   "outputs": [],
   "source": [
    "\n",
    "import pandas as pd\n",
    "import matplotlib.pyplot as plt\n",
    "import numpy as np\n",
    "import math\n",
    "import sys\n",
    "\n",
    "from sklearn.metrics import accuracy_score, f1_score, confusion_matrix\n",
    "from sklearn.utils.multiclass import unique_labels\n",
    "fold = 1"
   ]
  },
  {
   "cell_type": "code",
   "execution_count": 2,
   "metadata": {},
   "outputs": [],
   "source": [
    "def unique(list1): \n",
    "  \n",
    "    # intilize a null list \n",
    "    unique_list = [] \n",
    "      \n",
    "    # traverse for all elements \n",
    "    for x in list1: \n",
    "        # check if exists in unique_list or not \n",
    "        if x not in unique_list: \n",
    "            unique_list.append(x) \n",
    "    return unique_list\n",
    "      "
   ]
  },
  {
   "cell_type": "code",
   "execution_count": 19,
   "metadata": {},
   "outputs": [],
   "source": [
    "\n",
    "def plot_pretty_blue_confusion_matrix(classes, y_true=[], y_pred=[], cm=[],\n",
    "                                      normalize=False,\n",
    "                                      title=None,\n",
    "                                      cmap=plt.cm.Blues,\n",
    "                                      savepath=None,\n",
    "                                      figsize=(24,24)):\n",
    "    \"\"\"\n",
    "    This function prints and plots the confusion matrix.\n",
    "    Normalization can be applied by setting `normalize=True`.\n",
    "    \"\"\"\n",
    "    if not title:\n",
    "        if normalize:\n",
    "            title = 'Normalized confusion matrix'\n",
    "        else:\n",
    "            title = 'Confusion matrix'\n",
    "    labels=list(range(0,len(classes),1))\n",
    "    # Compute confusion matrix\n",
    "    if (len(y_true)==0 and len(y_pred)==0) and len(cm)==0:\n",
    "        sys.exit('need at least cm or the predictions and truths')\n",
    "    elif len(cm)==0:\n",
    "        cm = confusion_matrix(y_true, y_pred,labels=labels)\n",
    "    #     precisions = np.diag(cm) / np.sum(cm, axis = 0)\n",
    "    #     recalls = np.diag(cm) / np.sum(cm, axis = 1)\n",
    "    #     print(\"Precision: \", np.round(precisions, 4))\n",
    "    #     print(\"Recall: \", np.round(recalls, 4))\n",
    "\n",
    "        # Only use the labels that appear in the data\n",
    "    #     classes = classes[unique_labels(y_true, y_pred)]\n",
    "        \n",
    "#     print(cm)\n",
    "    if normalize:\n",
    "        cm = cm.astype('float') / cm.sum(axis=1)[:, np.newaxis]\n",
    "        print(\"Normalized confusion matrix\")\n",
    "        acc = 0\n",
    "        num=len(classes)\n",
    "        for i in range(len(classes)):\n",
    "            if math.isnan(cm[i][i]):\n",
    "                num = num-1\n",
    "                continue\n",
    "            acc += cm[i][i]\n",
    "        acc = acc/num\n",
    "        print('Avg Acc',acc)\n",
    "    else:\n",
    "        print(\"Confusion matrix\")\n",
    "\n",
    "#     print(cm.shape)\n",
    "#     print(len(classes))\n",
    "    save_df = pd.DataFrame(data=cm, columns=classes)\n",
    "    save_df.index = classes\n",
    "    save_df.to_csv(savepath+'.csv', index=True)\n",
    "\n",
    "    fig, ax = plt.subplots(figsize=figsize)\n",
    "    # We want to show all ticks...\n",
    "    ax.set(xticks=np.arange(cm.shape[1]),\n",
    "           yticks=np.arange(cm.shape[0]),\n",
    "           # ... and label them with the respective list entries\n",
    "           xticklabels=classes, yticklabels=classes,\n",
    "           title=title,\n",
    "           ylabel='True label',\n",
    "           xlabel='Predicted label')\n",
    "    im = ax.imshow(cm, interpolation='nearest', cmap=cmap)\n",
    "    ax.figure.colorbar(im, ax=ax)\n",
    "\n",
    "    # ax.tick_params(direction='out', length=6, width=2, colors='r',\n",
    "    #            grid_color='r', grid_alpha=0.5)\n",
    "\n",
    "    # Rotate the tick labels and set their alignment.\n",
    "    plt.setp(ax.get_xticklabels(), rotation=45, ha=\"right\",\n",
    "             rotation_mode=\"anchor\")\n",
    "    # plt.tight_layout()\n",
    "    plt.gcf().subplots_adjust(bottom=0.25)\n",
    "\n",
    "    # Loop over data dimensions and create text annotations.\n",
    "    fmt = '.2f' if normalize else 'd'\n",
    "    thresh = cm.max() / 2.\n",
    "    for i in range(cm.shape[0]):\n",
    "        for j in range(cm.shape[1]):\n",
    "            val = cm[i, j]\n",
    "            if math.isnan(val):\n",
    "                val = 0.0\n",
    "            ax.text(j, i, format(val, fmt),\n",
    "                    ha=\"center\", va=\"center\", size=6,\n",
    "                    color=\"white\" if cm[i, j] > thresh else \"black\")\n",
    "    if savepath is not None:\n",
    "        fig.savefig(savepath + '.jpg',dpi=150)\n",
    "    plt.close()\n",
    "    return ax, acc"
   ]
  },
  {
   "cell_type": "code",
   "execution_count": 43,
   "metadata": {},
   "outputs": [
    {
     "data": {
      "text/plain": [
       "array([0., 0., 0., 0., 0., 0., 0., 0., 0., 0., 0., 0., 0., 0., 0., 0., 0.,\n",
       "       0., 0., 0., 0., 0., 0., 0.])"
      ]
     },
     "execution_count": 43,
     "metadata": {},
     "output_type": "execute_result"
    }
   ],
   "source": [
    "FOLDS=[1,2,3,4,5]\n",
    "SEEDS=[0,1,2,3,4]\n",
    "np.zeros(24)"
   ]
  },
  {
   "cell_type": "code",
   "execution_count": 47,
   "metadata": {
    "scrolled": true
   },
   "outputs": [
    {
     "name": "stdout",
     "output_type": "stream",
     "text": [
      "Normalized confusion matrix\n",
      "Avg Acc 0.7831165754783974\n"
     ]
    },
    {
     "name": "stderr",
     "output_type": "stream",
     "text": [
      "<ipython-input-19-f5d6763e2d69>:32: RuntimeWarning: invalid value encountered in true_divide\n",
      "  cm = cm.astype('float') / cm.sum(axis=1)[:, np.newaxis]\n"
     ]
    },
    {
     "name": "stdout",
     "output_type": "stream",
     "text": [
      "Normalized confusion matrix\n",
      "Avg Acc 0.90585746170246\n",
      "Normalized confusion matrix\n",
      "Avg Acc 0.7791673877151604\n"
     ]
    },
    {
     "name": "stderr",
     "output_type": "stream",
     "text": [
      "<ipython-input-19-f5d6763e2d69>:32: RuntimeWarning: invalid value encountered in true_divide\n",
      "  cm = cm.astype('float') / cm.sum(axis=1)[:, np.newaxis]\n"
     ]
    },
    {
     "name": "stdout",
     "output_type": "stream",
     "text": [
      "Normalized confusion matrix\n",
      "Avg Acc 0.9217596938353819\n",
      "Normalized confusion matrix\n",
      "Avg Acc 0.7710798298501855\n"
     ]
    },
    {
     "name": "stderr",
     "output_type": "stream",
     "text": [
      "<ipython-input-19-f5d6763e2d69>:32: RuntimeWarning: invalid value encountered in true_divide\n",
      "  cm = cm.astype('float') / cm.sum(axis=1)[:, np.newaxis]\n"
     ]
    },
    {
     "name": "stdout",
     "output_type": "stream",
     "text": [
      "Normalized confusion matrix\n",
      "Avg Acc 0.9178966439704622\n",
      "Normalized confusion matrix\n",
      "Avg Acc 0.7684957199115929\n"
     ]
    },
    {
     "name": "stderr",
     "output_type": "stream",
     "text": [
      "<ipython-input-19-f5d6763e2d69>:32: RuntimeWarning: invalid value encountered in true_divide\n",
      "  cm = cm.astype('float') / cm.sum(axis=1)[:, np.newaxis]\n"
     ]
    },
    {
     "name": "stdout",
     "output_type": "stream",
     "text": [
      "Normalized confusion matrix\n",
      "Avg Acc 0.9169754055468341\n",
      "Normalized confusion matrix\n",
      "Avg Acc 0.7519470149478421\n",
      "Normalized confusion matrix\n",
      "Avg Acc 0.8674715190045668\n"
     ]
    },
    {
     "name": "stderr",
     "output_type": "stream",
     "text": [
      "<ipython-input-19-f5d6763e2d69>:32: RuntimeWarning: invalid value encountered in true_divide\n",
      "  cm = cm.astype('float') / cm.sum(axis=1)[:, np.newaxis]\n"
     ]
    },
    {
     "name": "stdout",
     "output_type": "stream",
     "text": [
      "Normalized confusion matrix\n",
      "Avg Acc 0.6995188352756033\n",
      "Normalized confusion matrix\n",
      "Avg Acc 0.9204081632653062\n"
     ]
    },
    {
     "name": "stderr",
     "output_type": "stream",
     "text": [
      "<ipython-input-19-f5d6763e2d69>:32: RuntimeWarning: invalid value encountered in true_divide\n",
      "  cm = cm.astype('float') / cm.sum(axis=1)[:, np.newaxis]\n"
     ]
    },
    {
     "name": "stdout",
     "output_type": "stream",
     "text": [
      "Normalized confusion matrix\n",
      "Avg Acc 0.6959841698767657\n",
      "Normalized confusion matrix\n",
      "Avg Acc 0.9211957057999329\n"
     ]
    },
    {
     "name": "stderr",
     "output_type": "stream",
     "text": [
      "<ipython-input-19-f5d6763e2d69>:32: RuntimeWarning: invalid value encountered in true_divide\n",
      "  cm = cm.astype('float') / cm.sum(axis=1)[:, np.newaxis]\n"
     ]
    },
    {
     "name": "stdout",
     "output_type": "stream",
     "text": [
      "Normalized confusion matrix\n",
      "Avg Acc 0.7129897524661003\n",
      "Normalized confusion matrix\n",
      "Avg Acc 0.9207733093237296\n"
     ]
    },
    {
     "name": "stderr",
     "output_type": "stream",
     "text": [
      "<ipython-input-19-f5d6763e2d69>:32: RuntimeWarning: invalid value encountered in true_divide\n",
      "  cm = cm.astype('float') / cm.sum(axis=1)[:, np.newaxis]\n"
     ]
    },
    {
     "name": "stdout",
     "output_type": "stream",
     "text": [
      "Normalized confusion matrix\n",
      "Avg Acc 0.7414520240795798\n",
      "Normalized confusion matrix\n",
      "Avg Acc 0.926035931614025\n"
     ]
    },
    {
     "name": "stderr",
     "output_type": "stream",
     "text": [
      "<ipython-input-19-f5d6763e2d69>:32: RuntimeWarning: invalid value encountered in true_divide\n",
      "  cm = cm.astype('float') / cm.sum(axis=1)[:, np.newaxis]\n"
     ]
    },
    {
     "name": "stdout",
     "output_type": "stream",
     "text": [
      "Normalized confusion matrix\n",
      "Avg Acc 0.770502242601129\n",
      "Normalized confusion matrix\n",
      "Avg Acc 0.9262545556490047\n",
      "Normalized confusion matrix\n",
      "Avg Acc 0.7373310679841072\n"
     ]
    },
    {
     "name": "stderr",
     "output_type": "stream",
     "text": [
      "<ipython-input-19-f5d6763e2d69>:32: RuntimeWarning: invalid value encountered in true_divide\n",
      "  cm = cm.astype('float') / cm.sum(axis=1)[:, np.newaxis]\n"
     ]
    },
    {
     "name": "stdout",
     "output_type": "stream",
     "text": [
      "Normalized confusion matrix\n",
      "Avg Acc 0.9375\n",
      "Normalized confusion matrix\n",
      "Avg Acc 0.7431255202126184\n"
     ]
    },
    {
     "name": "stderr",
     "output_type": "stream",
     "text": [
      "<ipython-input-19-f5d6763e2d69>:32: RuntimeWarning: invalid value encountered in true_divide\n",
      "  cm = cm.astype('float') / cm.sum(axis=1)[:, np.newaxis]\n"
     ]
    },
    {
     "name": "stdout",
     "output_type": "stream",
     "text": [
      "Normalized confusion matrix\n",
      "Avg Acc 0.9375\n",
      "Normalized confusion matrix\n",
      "Avg Acc 0.7813143918947384\n",
      "Normalized confusion matrix\n",
      "Avg Acc 0.9411764705882353\n",
      "Normalized confusion matrix\n",
      "Avg Acc 0.7721285257256506\n"
     ]
    },
    {
     "name": "stderr",
     "output_type": "stream",
     "text": [
      "<ipython-input-19-f5d6763e2d69>:32: RuntimeWarning: invalid value encountered in true_divide\n",
      "  cm = cm.astype('float') / cm.sum(axis=1)[:, np.newaxis]\n"
     ]
    },
    {
     "name": "stdout",
     "output_type": "stream",
     "text": [
      "Normalized confusion matrix\n",
      "Avg Acc 0.9375\n",
      "Normalized confusion matrix\n",
      "Avg Acc 0.7823655195200752\n"
     ]
    },
    {
     "name": "stderr",
     "output_type": "stream",
     "text": [
      "<ipython-input-19-f5d6763e2d69>:32: RuntimeWarning: invalid value encountered in true_divide\n",
      "  cm = cm.astype('float') / cm.sum(axis=1)[:, np.newaxis]\n"
     ]
    },
    {
     "name": "stdout",
     "output_type": "stream",
     "text": [
      "Normalized confusion matrix\n",
      "Avg Acc 0.9375\n",
      "Normalized confusion matrix\n",
      "Avg Acc 0.7914531185299698\n"
     ]
    },
    {
     "name": "stderr",
     "output_type": "stream",
     "text": [
      "<ipython-input-19-f5d6763e2d69>:32: RuntimeWarning: invalid value encountered in true_divide\n",
      "  cm = cm.astype('float') / cm.sum(axis=1)[:, np.newaxis]\n"
     ]
    },
    {
     "name": "stdout",
     "output_type": "stream",
     "text": [
      "Normalized confusion matrix\n",
      "Avg Acc 0.8939950980392157\n",
      "Normalized confusion matrix\n",
      "Avg Acc 0.7887106029744357\n"
     ]
    },
    {
     "name": "stderr",
     "output_type": "stream",
     "text": [
      "<ipython-input-19-f5d6763e2d69>:32: RuntimeWarning: invalid value encountered in true_divide\n",
      "  cm = cm.astype('float') / cm.sum(axis=1)[:, np.newaxis]\n"
     ]
    },
    {
     "name": "stdout",
     "output_type": "stream",
     "text": [
      "Normalized confusion matrix\n",
      "Avg Acc 0.8946314102564102\n",
      "Normalized confusion matrix\n",
      "Avg Acc 0.7728800707835762\n"
     ]
    },
    {
     "name": "stderr",
     "output_type": "stream",
     "text": [
      "<ipython-input-19-f5d6763e2d69>:32: RuntimeWarning: invalid value encountered in true_divide\n",
      "  cm = cm.astype('float') / cm.sum(axis=1)[:, np.newaxis]\n"
     ]
    },
    {
     "name": "stdout",
     "output_type": "stream",
     "text": [
      "Normalized confusion matrix\n",
      "Avg Acc 0.8939950980392157\n",
      "Normalized confusion matrix\n",
      "Avg Acc 0.7799075711671969\n"
     ]
    },
    {
     "name": "stderr",
     "output_type": "stream",
     "text": [
      "<ipython-input-19-f5d6763e2d69>:32: RuntimeWarning: invalid value encountered in true_divide\n",
      "  cm = cm.astype('float') / cm.sum(axis=1)[:, np.newaxis]\n"
     ]
    },
    {
     "name": "stdout",
     "output_type": "stream",
     "text": [
      "Normalized confusion matrix\n",
      "Avg Acc 0.8948717948717949\n",
      "Normalized confusion matrix\n",
      "Avg Acc 0.8085633164748083\n",
      "Normalized confusion matrix\n",
      "Avg Acc 0.8966802937391174\n",
      "Normalized confusion matrix\n",
      "Avg Acc 0.7540580847343263\n"
     ]
    },
    {
     "name": "stderr",
     "output_type": "stream",
     "text": [
      "<ipython-input-19-f5d6763e2d69>:32: RuntimeWarning: invalid value encountered in true_divide\n",
      "  cm = cm.astype('float') / cm.sum(axis=1)[:, np.newaxis]\n"
     ]
    },
    {
     "name": "stdout",
     "output_type": "stream",
     "text": [
      "Normalized confusion matrix\n",
      "Avg Acc 0.9272237196765499\n",
      "Normalized confusion matrix\n",
      "Avg Acc 0.7689056146682672\n"
     ]
    },
    {
     "name": "stderr",
     "output_type": "stream",
     "text": [
      "<ipython-input-19-f5d6763e2d69>:32: RuntimeWarning: invalid value encountered in true_divide\n",
      "  cm = cm.astype('float') / cm.sum(axis=1)[:, np.newaxis]\n"
     ]
    },
    {
     "name": "stdout",
     "output_type": "stream",
     "text": [
      "Normalized confusion matrix\n",
      "Avg Acc 0.9285714285714286\n",
      "Normalized confusion matrix\n",
      "Avg Acc 0.7213584408751367\n"
     ]
    },
    {
     "name": "stderr",
     "output_type": "stream",
     "text": [
      "<ipython-input-19-f5d6763e2d69>:32: RuntimeWarning: invalid value encountered in true_divide\n",
      "  cm = cm.astype('float') / cm.sum(axis=1)[:, np.newaxis]\n"
     ]
    },
    {
     "name": "stdout",
     "output_type": "stream",
     "text": [
      "Normalized confusion matrix\n",
      "Avg Acc 0.9272959183673469\n",
      "Normalized confusion matrix\n",
      "Avg Acc 0.7334837830228633\n"
     ]
    },
    {
     "name": "stderr",
     "output_type": "stream",
     "text": [
      "<ipython-input-19-f5d6763e2d69>:32: RuntimeWarning: invalid value encountered in true_divide\n",
      "  cm = cm.astype('float') / cm.sum(axis=1)[:, np.newaxis]\n"
     ]
    },
    {
     "name": "stdout",
     "output_type": "stream",
     "text": [
      "Normalized confusion matrix\n",
      "Avg Acc 0.9271428571428572\n",
      "Normalized confusion matrix\n",
      "Avg Acc 0.6701903192399169\n"
     ]
    },
    {
     "name": "stderr",
     "output_type": "stream",
     "text": [
      "<ipython-input-19-f5d6763e2d69>:32: RuntimeWarning: invalid value encountered in true_divide\n",
      "  cm = cm.astype('float') / cm.sum(axis=1)[:, np.newaxis]\n"
     ]
    },
    {
     "name": "stdout",
     "output_type": "stream",
     "text": [
      "Normalized confusion matrix\n",
      "Avg Acc 0.9173160173160173\n"
     ]
    }
   ],
   "source": [
    "accA=np.zeros(25)\n",
    "accB=np.zeros(25)\n",
    "accC=np.zeros(25)\n",
    "accD=np.zeros(25)\n",
    "iters=0\n",
    "for fold in FOLDS:\n",
    "    probas = pd.read_csv('closed/fold{}/xception_probabilities.csv'.format(fold))\n",
    "    probas_columns = list(range(1,17,1))\n",
    "    OGpd = pd.read_csv('datasplits/split_fold{}.csv'.format(fold))\n",
    "    \n",
    "    # first get the species list\n",
    "    species_list = ['']*17\n",
    "    for i in range(OGpd.shape[0]):\n",
    "        tmp_sp = OGpd['Species_Name'][i]\n",
    "        if 'spp' not in tmp_sp and tmp_sp!='mosquito' :\n",
    "            if tmp_sp not in species_list:\n",
    "    #             print(species_list[15])\n",
    "                species_list[OGpd['Species'][i]]=tmp_sp.split('_')[0] + ' ' + tmp_sp.split('_')[1]\n",
    "        else:\n",
    "            tmp_sp = 'Unknown'\n",
    "            if tmp_sp not in species_list:\n",
    "                species_list[16]=tmp_sp\n",
    "                \n",
    "    for seed in SEEDS:\n",
    "        xslx_fname = 'closed/results_fold{}_seed{}.csv'.format(fold,seed)\n",
    "        preppedpd = pd.read_csv(xslx_fname)\n",
    "\n",
    "        #newpd = pd.DataFrame(preppedpd.copy)\n",
    "        species_pred_column = []\n",
    "        species_itruth_column = []\n",
    "        species_ipred_column = []\n",
    "        just_known_ipred=[]\n",
    "        just_known_itruth=[]\n",
    "        for i in range(preppedpd.shape[0]):\n",
    "            if preppedpd['U-K Truth'][i]=='Unknown':\n",
    "                species_itruth_column.append(16)\n",
    "            elif preppedpd['U-K Truth'][i]=='Known':\n",
    "                species_itruth_column.append(int(species_list.index(preppedpd['Species Truth'][i].replace('_sl',''))))\n",
    "            if preppedpd['U-K Pred'][i]=='Unknown':\n",
    "                species_pred_column.append('')\n",
    "                species_ipred_column.append(16)\n",
    "            elif preppedpd['U-K Pred'][i]=='Known':\n",
    "                idx = probas[probas['Id']==preppedpd['Id'][i]].index.values[0]\n",
    "                probas_tmp = probas.iloc[idx,probas_columns].to_list()\n",
    "                pred_i = probas_tmp.index(max(probas_tmp))\n",
    "                pred = species_list[pred_i]\n",
    "                species_ipred_column.append(int(pred_i))\n",
    "                species_pred_column.append(pred)\n",
    "                just_known_ipred.append(pred_i)\n",
    "                just_known_itruth.append(species_itruth_column[i])\n",
    "            else:\n",
    "                print(i)\n",
    "        unique(species_itruth_column)\n",
    "        \n",
    "        preppedpd['Species Pred'] = species_pred_column\n",
    "        preppedpd['Species Truth idx'] = species_itruth_column\n",
    "        preppedpd['Species Pred idx'] = species_ipred_column\n",
    "        accA[iters] = len(preppedpd[preppedpd['Species Truth idx'] ==preppedpd['Species Pred idx']])/len(preppedpd['Species Truth idx'])\n",
    "        preppedpd.to_csv(xslx_fname.replace('closed','cascaded'))\n",
    "        acc = 0\n",
    "        for i in range(len(just_known_ipred)):\n",
    "            if just_known_ipred[i]==just_known_itruth[i]:\n",
    "                acc+=1\n",
    "#             else:\n",
    "#                 print(just_known_ipred[i],just_known_itruth[i])\n",
    "        accC[iters]=acc/len(just_known_ipred) #cascaded known only unweighted\n",
    "        \n",
    "        _,acc=plot_pretty_blue_confusion_matrix(classes=species_list,\n",
    "                                  y_true=preppedpd['Species Truth idx'], \n",
    "                                  y_pred=preppedpd['Species Pred idx'], \n",
    "                                  normalize=True,  \n",
    "                                  savepath='cascaded/confusion_fold{}seed{}'.format(fold,seed),\n",
    "                                  figsize=(12,12))\n",
    "        accB[iters]=acc\n",
    "        _,acc=plot_pretty_blue_confusion_matrix(classes=species_list,\n",
    "                                  y_true=just_known_itruth, \n",
    "                                  y_pred=just_known_ipred, \n",
    "                                  normalize=True,  \n",
    "                                  savepath='cascaded/confusion_fold{}seed{}_known'.format(fold,seed),\n",
    "                                  figsize=(12,12))\n",
    "        accD[iters]=acc #cascaded known only species normalized\n",
    "\n",
    "        iters+=1\n",
    "# avg_accA=avg_accA/iters\n",
    "# avg_accB=avg_accB/iters\n",
    "# avg_accC=avg_accC/iters\n",
    "# avg_accD=avg_accD/iters\n",
    "# # preppedpd"
   ]
  },
  {
   "cell_type": "code",
   "execution_count": 48,
   "metadata": {},
   "outputs": [
    {
     "name": "stdout",
     "output_type": "stream",
     "text": [
      "[0.88876014 0.86540664 0.86324786 0.85231826 0.86655405 0.93193984\n",
      " 0.85675    0.85288967 0.92923    0.91570785 0.71847791 0.94412847\n",
      " 0.91416166 0.91507571 0.7512622  0.8968386  0.91130643 0.91402337\n",
      " 0.92219241 0.9030837  0.95622896 0.95930479 0.94934014 0.88472059\n",
      " 0.90635973]\n",
      "0.8907723604271421 0.05579261249256058\n",
      "0.7552011800004017 0.0334767078483781\n",
      "0.7173512913774037 0.16746198325544837\n",
      "0.9175011398527958 0.017865519657232286\n"
     ]
    }
   ],
   "source": [
    "# print(accA)\n",
    "avg_accA=accA.mean()\n",
    "std_accA=accA.std()\n",
    "avg_accB=accB.mean()\n",
    "std_accB=accB.std()\n",
    "avg_accC=accC.mean()\n",
    "std_accC=accC.std()\n",
    "avg_accD=accD.mean()\n",
    "std_accD=accD.std()\n",
    "print(avg_accA,std_accA)\n",
    "print(avg_accB,std_accB)\n",
    "print(avg_accC,std_accC)\n",
    "print(avg_accD,std_accD)\n",
    "# species_list[:16]"
   ]
  },
  {
   "cell_type": "code",
   "execution_count": 6,
   "metadata": {},
   "outputs": [],
   "source": [
    "# # first get the species list\n",
    "# species_list = ['']*17\n",
    "# for i in range(OGpd.shape[0]):\n",
    "#     tmp_sp = OGpd['Species_Name'][i]\n",
    "#     if 'spp' not in tmp_sp and tmp_sp!='mosquito' :\n",
    "#         if tmp_sp not in species_list:\n",
    "# #             print(species_list[15])\n",
    "#             species_list[OGpd['Species'][i]]=tmp_sp.split('_')[0] + ' ' + tmp_sp.split('_')[1]\n",
    "#     else:\n",
    "#         tmp_sp = 'Unknown'\n",
    "#         if tmp_sp not in species_list:\n",
    "#             species_list[16]=tmp_sp\n"
   ]
  },
  {
   "cell_type": "code",
   "execution_count": 7,
   "metadata": {},
   "outputs": [],
   "source": [
    "# probas = pd.read_csv('closed/fold{}/xception_probabilities.csv'.format(fold))\n",
    "# probas_columns = list(range(1,17,1))\n",
    "\n"
   ]
  },
  {
   "cell_type": "code",
   "execution_count": 8,
   "metadata": {},
   "outputs": [
    {
     "data": {
      "text/plain": [
       "[0, 1, 2, 3, 4, 5, 6, 7, 8, 9, 10, 11, 12, 13, 14, 15, 16]"
      ]
     },
     "execution_count": 8,
     "metadata": {},
     "output_type": "execute_result"
    }
   ],
   "source": [
    "# species_pred_column = []\n",
    "# species_itruth_column = []\n",
    "# species_ipred_column = []\n",
    "# for i in range(preppedpd.shape[0]):\n",
    "#     if preppedpd['U-K Truth'][i]=='Unknown':\n",
    "#         species_itruth_column.append(16)\n",
    "#     elif preppedpd['U-K Truth'][i]=='Known':\n",
    "#         species_itruth_column.append(int(species_list.index(preppedpd['Species Truth'][i].replace('_sl',''))))\n",
    "#     if preppedpd['U-K Pred'][i]=='Unknown':\n",
    "#         species_pred_column.append('')\n",
    "#         species_ipred_column.append(16)\n",
    "#     elif preppedpd['U-K Pred'][i]=='Known':\n",
    "#         idx = probas[probas['Id']==preppedpd['Id'][i]].index.values[0]\n",
    "#         probas_tmp = probas.iloc[idx,probas_columns].to_list()\n",
    "#         pred_i = probas_tmp.index(max(probas_tmp))\n",
    "#         pred = species_list[pred_i]\n",
    "#         species_ipred_column.append(int(pred_i))\n",
    "#         species_pred_column.append(pred)\n",
    "#     else:\n",
    "#         print(i)\n",
    "# unique(species_itruth_column)"
   ]
  },
  {
   "cell_type": "code",
   "execution_count": 11,
   "metadata": {},
   "outputs": [],
   "source": [
    "preppedpd['Species Pred'] = species_pred_column\n",
    "preppedpd['Species Truth idx'] = species_itruth_column\n",
    "preppedpd['Species Pred idx'] = species_ipred_column\n",
    "\n",
    "preppedpd.to_csv('full_results_fold{}_seed0.csv'.format(fold))"
   ]
  },
  {
   "cell_type": "code",
   "execution_count": 12,
   "metadata": {},
   "outputs": [
    {
     "name": "stdout",
     "output_type": "stream",
     "text": [
      "Normalized confusion matrix\n",
      "Avg Acc 0.7831165754783974\n"
     ]
    },
    {
     "data": {
      "text/plain": [
       "<AxesSubplot:title={'center':'Normalized confusion matrix'}, xlabel='Predicted label', ylabel='True label'>"
      ]
     },
     "execution_count": 12,
     "metadata": {},
     "output_type": "execute_result"
    },
    {
     "data": {
      "image/png": "[encoded data removed]",
      "text/plain": [
       "<Figure size 864x864 with 2 Axes>"
      ]
     },
     "metadata": {
      "needs_background": "light"
     },
     "output_type": "display_data"
    }
   ],
   "source": [
    "plot_pretty_blue_confusion_matrix(classes=species_list,\n",
    "                                  y_true=preppedpd['Species Truth idx'], \n",
    "                                  y_pred=preppedpd['Species Pred idx'], \n",
    "                                  normalize=True,  \n",
    "                                  savepath='cascaded/confusion_fold{}'.format(fold),\n",
    "                                  figsize=(12,12))"
   ]
  },
  {
   "cell_type": "code",
   "execution_count": null,
   "metadata": {},
   "outputs": [],
   "source": []
  },
  {
   "cell_type": "code",
   "execution_count": null,
   "metadata": {},
   "outputs": [],
   "source": []
  },
  {
   "cell_type": "code",
   "execution_count": null,
   "metadata": {},
   "outputs": [],
   "source": []
  },
  {
   "cell_type": "code",
   "execution_count": null,
   "metadata": {},
   "outputs": [],
   "source": []
  }
 ],
 "metadata": {
  "kernelspec": {
   "display_name": "Python 3",
   "language": "python",
   "name": "python3"
  },
  "language_info": {
   "codemirror_mode": {
    "name": "ipython",
    "version": 3
   },
   "file_extension": ".py",
   "mimetype": "text/x-python",
   "name": "python",
   "nbconvert_exporter": "python",
   "pygments_lexer": "ipython3",
   "version": "3.7.5"
  }
 },
 "nbformat": 4,
 "nbformat_minor": 2
}
