{
 "cells": [
  {
   "cell_type": "code",
   "execution_count": 1,
   "metadata": {},
   "outputs": [],
   "source": [
    "import sys\n",
    "sys.path.append('../..')\n",
    "from sklearn.metrics import accuracy_score, f1_score, precision_score, recall_score\n",
    "import matplotlib.pyplot as plt\n",
    "from unknown.loaders.test_split import SpeciesBalancedTestTrainSplitter\n",
    "from unknown.models.zoo import get_gs_params, get_model\n",
    "from unknown.utils.helpers import load_configs_given_paths\n",
    "from unknown.utils.paths import ROOT_DIR\n",
    "from unknown.loaders.cache_loader import T2Iterator\n",
    "from unknown.config.trials import trials\n",
    "from unknown.config.config import UnknownConfigLoader\n",
    "cfg = UnknownConfigLoader()"
   ]
  },
  {
   "cell_type": "markdown",
   "metadata": {},
   "source": [
    "## Please note: to re-run this notebook, you must have already run tier1. "
   ]
  },
  {
   "cell_type": "code",
   "execution_count": 2,
   "metadata": {},
   "outputs": [],
   "source": [
    "# Use this constant to configure the path to the config file. This is the same one you would put in CLOSED_CONFIG, OPEN_CONFIG (see readme for details)\n",
    "\n",
    "CLOSED_CONFIG_PATH = \"configs/old_configs/paper_redo/closed/fold1/config.py\" \n",
    "OPEN_CONFIG_PATH = \"configs/old_configs/paper_redo/open/fold1/config.py\" "
   ]
  },
  {
   "cell_type": "code",
   "execution_count": 7,
   "metadata": {},
   "outputs": [
    {
     "name": "stdout",
     "output_type": "stream",
     "text": [
      "/home/hieu/Downloads/pace1/configs/old_configs/paper_redo/closed/fold1/config.py\n",
      "/home/hieu/Downloads/pace1/configs/old_configs/paper_redo/open/fold1/config.py\n"
     ]
    }
   ],
   "source": [
    "import os\n",
    "def make_absolute(fpath):\n",
    "  if fpath is None:\n",
    "    raise ValueError(f'fpath cannot be None')\n",
    "  if not os.path.exists(fpath) and not os.path.isabs(fpath):\n",
    "    fpath = os.path.join(ROOT_DIR, fpath)\n",
    "  if not os.path.exists(fpath):\n",
    "    raise ValueError(f\"Could not load module for ({fpath}).\\nAre you sure that file exists?\")\n",
    "  print(fpath)\n",
    "  return fpath\n",
    "\n",
    "CLOSED_CONFIG_PATH = make_absolute(CLOSED_CONFIG_PATH)\n",
    "OPEN_CONFIG_PATH = make_absolute(OPEN_CONFIG_PATH)"
   ]
  },
  {
   "cell_type": "code",
   "execution_count": 4,
   "metadata": {},
   "outputs": [
    {
     "name": "stdout",
     "output_type": "stream",
     "text": [
      "T2 cache miss\n",
      "Best Params: {'rfor_clf__criterion': 'entropy', 'rfor_clf__max_depth': 15, 'rfor_clf__max_features': 'auto', 'rfor_clf__n_estimators': 100}\n",
      "Training model...\n",
      "Gathering test data...\n"
     ]
    },
    {
     "ename": "ValueError",
     "evalue": "not enough values to unpack (expected 4, got 2)",
     "output_type": "error",
     "traceback": [
      "\u001b[0;31m---------------------------------------------------------------------------\u001b[0m",
      "\u001b[0;31mValueError\u001b[0m                                Traceback (most recent call last)",
      "\u001b[0;32m<ipython-input-4-19451dfbd0e9>\u001b[0m in \u001b[0;36m<module>\u001b[0;34m\u001b[0m\n\u001b[1;32m      6\u001b[0m \u001b[0mt1_closed_config\u001b[0m\u001b[0;34m,\u001b[0m \u001b[0mt1_open_config\u001b[0m \u001b[0;34m=\u001b[0m \u001b[0mload_configs_given_paths\u001b[0m\u001b[0;34m(\u001b[0m\u001b[0mCLOSED_CONFIG_PATH\u001b[0m\u001b[0;34m,\u001b[0m \u001b[0mOPEN_CONFIG_PATH\u001b[0m\u001b[0;34m)\u001b[0m\u001b[0;34m\u001b[0m\u001b[0;34m\u001b[0m\u001b[0m\n\u001b[1;32m      7\u001b[0m \u001b[0msplitter\u001b[0m \u001b[0;34m=\u001b[0m \u001b[0mSpeciesBalancedTestTrainSplitter\u001b[0m\u001b[0;34m(\u001b[0m\u001b[0mt1_closed_config\u001b[0m\u001b[0;34m,\u001b[0m \u001b[0mt1_open_config\u001b[0m\u001b[0;34m,\u001b[0m \u001b[0mrandom_seed\u001b[0m\u001b[0;34m=\u001b[0m\u001b[0mcfg\u001b[0m\u001b[0;34m.\u001b[0m\u001b[0mSEED\u001b[0m\u001b[0;34m)\u001b[0m\u001b[0;34m\u001b[0m\u001b[0;34m\u001b[0m\u001b[0m\n\u001b[0;32m----> 8\u001b[0;31m \u001b[0mt2_iter\u001b[0m \u001b[0;34m=\u001b[0m \u001b[0mT2Iterator\u001b[0m\u001b[0;34m(\u001b[0m\u001b[0mtrial\u001b[0m\u001b[0;34m,\u001b[0m \u001b[0msplitter\u001b[0m\u001b[0;34m,\u001b[0m \u001b[0mfold\u001b[0m\u001b[0;34m=\u001b[0m\u001b[0mt1_closed_config\u001b[0m\u001b[0;34m.\u001b[0m\u001b[0mFOLD\u001b[0m\u001b[0;34m,\u001b[0m \u001b[0mspecies_seed\u001b[0m\u001b[0;34m=\u001b[0m\u001b[0mspecies_seed\u001b[0m\u001b[0;34m,\u001b[0m \u001b[0muse_val\u001b[0m\u001b[0;34m=\u001b[0m\u001b[0;32mTrue\u001b[0m\u001b[0;34m)\u001b[0m\u001b[0;34m\u001b[0m\u001b[0;34m\u001b[0m\u001b[0m\n\u001b[0m\u001b[1;32m      9\u001b[0m \u001b[0;34m\u001b[0m\u001b[0m\n\u001b[1;32m     10\u001b[0m \u001b[0mx_train\u001b[0m\u001b[0;34m,\u001b[0m \u001b[0my_train\u001b[0m\u001b[0;34m,\u001b[0m \u001b[0mid_train\u001b[0m \u001b[0;34m=\u001b[0m \u001b[0mt2_iter\u001b[0m\u001b[0;34m.\u001b[0m\u001b[0mload\u001b[0m\u001b[0;34m(\u001b[0m\u001b[0;34m'train'\u001b[0m\u001b[0;34m)\u001b[0m\u001b[0;34m\u001b[0m\u001b[0;34m\u001b[0m\u001b[0m\n",
      "\u001b[0;32m~/Downloads/pace1/unknown/loaders/cache_loader.py\u001b[0m in \u001b[0;36m__init__\u001b[0;34m(self, trial, splitter, fold, species_seed, use_val)\u001b[0m\n\u001b[1;32m    112\u001b[0m     \u001b[0mself\u001b[0m\u001b[0;34m.\u001b[0m\u001b[0msplitter\u001b[0m \u001b[0;34m=\u001b[0m \u001b[0msplitter\u001b[0m\u001b[0;34m\u001b[0m\u001b[0;34m\u001b[0m\u001b[0m\n\u001b[1;32m    113\u001b[0m     \u001b[0mself\u001b[0m\u001b[0;34m.\u001b[0m\u001b[0msplitter\u001b[0m\u001b[0;34m.\u001b[0m\u001b[0mreshuffle_data\u001b[0m\u001b[0;34m(\u001b[0m\u001b[0mspecies_seed\u001b[0m\u001b[0;34m)\u001b[0m\u001b[0;34m\u001b[0m\u001b[0;34m\u001b[0m\u001b[0m\n\u001b[0;32m--> 114\u001b[0;31m     \u001b[0mself\u001b[0m\u001b[0;34m.\u001b[0m\u001b[0mdata\u001b[0m \u001b[0;34m=\u001b[0m \u001b[0mload_t2_data\u001b[0m\u001b[0;34m(\u001b[0m\u001b[0mtrial\u001b[0m\u001b[0;34m,\u001b[0m \u001b[0msplitter\u001b[0m\u001b[0;34m,\u001b[0m \u001b[0mfold\u001b[0m\u001b[0;34m=\u001b[0m\u001b[0mfold\u001b[0m\u001b[0;34m,\u001b[0m \u001b[0mspecies_seed\u001b[0m\u001b[0;34m=\u001b[0m\u001b[0mspecies_seed\u001b[0m\u001b[0;34m,\u001b[0m \u001b[0muse_val\u001b[0m\u001b[0;34m=\u001b[0m\u001b[0muse_val\u001b[0m\u001b[0;34m)\u001b[0m\u001b[0;34m\u001b[0m\u001b[0;34m\u001b[0m\u001b[0m\n\u001b[0m\u001b[1;32m    115\u001b[0m \u001b[0;34m\u001b[0m\u001b[0m\n\u001b[1;32m    116\u001b[0m   \u001b[0;32mdef\u001b[0m \u001b[0mload\u001b[0m\u001b[0;34m(\u001b[0m\u001b[0mself\u001b[0m\u001b[0;34m,\u001b[0m \u001b[0msplit\u001b[0m\u001b[0;34m)\u001b[0m\u001b[0;34m:\u001b[0m\u001b[0;34m\u001b[0m\u001b[0;34m\u001b[0m\u001b[0m\n",
      "\u001b[0;32m~/Downloads/pace1/unknown/loaders/cache_loader.py\u001b[0m in \u001b[0;36mload_t2_data\u001b[0;34m(trial, splitter, fold, species_seed, use_val)\u001b[0m\n\u001b[1;32m     92\u001b[0m   \u001b[0;32mif\u001b[0m \u001b[0;32mnot\u001b[0m \u001b[0mos\u001b[0m\u001b[0;34m.\u001b[0m\u001b[0mpath\u001b[0m\u001b[0;34m.\u001b[0m\u001b[0mexists\u001b[0m\u001b[0;34m(\u001b[0m\u001b[0mcache_path\u001b[0m\u001b[0;34m)\u001b[0m\u001b[0;34m:\u001b[0m\u001b[0;34m\u001b[0m\u001b[0;34m\u001b[0m\u001b[0m\n\u001b[1;32m     93\u001b[0m     \u001b[0mprint\u001b[0m\u001b[0;34m(\u001b[0m\u001b[0;34m\"T2 cache miss\"\u001b[0m\u001b[0;34m)\u001b[0m\u001b[0;34m\u001b[0m\u001b[0;34m\u001b[0m\u001b[0m\n\u001b[0;32m---> 94\u001b[0;31m     \u001b[0mall_data\u001b[0m \u001b[0;34m=\u001b[0m \u001b[0mcache_t2_data\u001b[0m\u001b[0;34m(\u001b[0m\u001b[0mtrial\u001b[0m\u001b[0;34m,\u001b[0m \u001b[0msplitter\u001b[0m\u001b[0;34m,\u001b[0m \u001b[0mfold\u001b[0m\u001b[0;34m=\u001b[0m\u001b[0mfold\u001b[0m\u001b[0;34m,\u001b[0m \u001b[0mspecies_seed\u001b[0m\u001b[0;34m=\u001b[0m\u001b[0mspecies_seed\u001b[0m\u001b[0;34m,\u001b[0m \u001b[0muse_val\u001b[0m\u001b[0;34m=\u001b[0m\u001b[0muse_val\u001b[0m\u001b[0;34m)\u001b[0m\u001b[0;34m\u001b[0m\u001b[0;34m\u001b[0m\u001b[0m\n\u001b[0m\u001b[1;32m     95\u001b[0m     \u001b[0mprint\u001b[0m\u001b[0;34m(\u001b[0m\u001b[0;34mf\"Saving to cache {cache_path}...\"\u001b[0m\u001b[0;34m)\u001b[0m\u001b[0;34m\u001b[0m\u001b[0;34m\u001b[0m\u001b[0m\n\u001b[1;32m     96\u001b[0m     \u001b[0mnp\u001b[0m\u001b[0;34m.\u001b[0m\u001b[0msavez\u001b[0m\u001b[0;34m(\u001b[0m\u001b[0mcache_path\u001b[0m\u001b[0;34m,\u001b[0m \u001b[0;34m**\u001b[0m\u001b[0mall_data\u001b[0m\u001b[0;34m)\u001b[0m\u001b[0;34m\u001b[0m\u001b[0;34m\u001b[0m\u001b[0m\n",
      "\u001b[0;32m~/Downloads/pace1/unknown/loaders/cache_loader.py\u001b[0m in \u001b[0;36mcache_t2_data\u001b[0;34m(trial, splitter, fold, species_seed, use_val)\u001b[0m\n\u001b[1;32m     62\u001b[0m       \u001b[0;31m# test\u001b[0m\u001b[0;34m\u001b[0m\u001b[0;34m\u001b[0m\u001b[0;34m\u001b[0m\u001b[0m\n\u001b[1;32m     63\u001b[0m       \u001b[0mprint\u001b[0m\u001b[0;34m(\u001b[0m\u001b[0;34m\"Gathering test data...\"\u001b[0m\u001b[0;34m)\u001b[0m\u001b[0;34m\u001b[0m\u001b[0;34m\u001b[0m\u001b[0m\n\u001b[0;32m---> 64\u001b[0;31m       \u001b[0;32mfor\u001b[0m \u001b[0msplit\u001b[0m\u001b[0;34m,\u001b[0m \u001b[0mx_test\u001b[0m\u001b[0;34m,\u001b[0m \u001b[0my_test\u001b[0m\u001b[0;34m,\u001b[0m \u001b[0mtest_names\u001b[0m \u001b[0;32min\u001b[0m \u001b[0mt1_iter\u001b[0m\u001b[0;34m.\u001b[0m\u001b[0miter_given_combo\u001b[0m\u001b[0;34m(\u001b[0m\u001b[0mcombo\u001b[0m\u001b[0;34m,\u001b[0m \u001b[0mwnn\u001b[0m\u001b[0;34m=\u001b[0m\u001b[0;34m(\u001b[0m\u001b[0malg\u001b[0m \u001b[0;34m==\u001b[0m \u001b[0;34m'wnn'\u001b[0m\u001b[0;34m)\u001b[0m\u001b[0;34m,\u001b[0m \u001b[0mskip_train\u001b[0m\u001b[0;34m=\u001b[0m\u001b[0;32mFalse\u001b[0m\u001b[0;34m)\u001b[0m\u001b[0;34m:\u001b[0m\u001b[0;34m\u001b[0m\u001b[0;34m\u001b[0m\u001b[0m\n\u001b[0m\u001b[1;32m     65\u001b[0m         \u001b[0;32mif\u001b[0m \u001b[0muse_val\u001b[0m\u001b[0;34m:\u001b[0m\u001b[0;34m\u001b[0m\u001b[0;34m\u001b[0m\u001b[0m\n\u001b[1;32m     66\u001b[0m           \u001b[0;32mif\u001b[0m \u001b[0msplit\u001b[0m \u001b[0;34m==\u001b[0m \u001b[0;34m'T'\u001b[0m\u001b[0;34m:\u001b[0m\u001b[0;34m\u001b[0m\u001b[0;34m\u001b[0m\u001b[0m\n",
      "\u001b[0;31mValueError\u001b[0m: not enough values to unpack (expected 4, got 2)"
     ]
    }
   ],
   "source": [
    "\n",
    "# constants\n",
    "trial_name = 'T1'\n",
    "species_seed = 0\n",
    "# load data\n",
    "trial = trials[trial_name]\n",
    "t1_closed_config, t1_open_config = load_configs_given_paths(CLOSED_CONFIG_PATH, OPEN_CONFIG_PATH)\n",
    "splitter = SpeciesBalancedTestTrainSplitter(t1_closed_config, t1_open_config, random_seed=cfg.SEED)\n",
    "t2_iter = T2Iterator(trial, splitter, fold=t1_closed_config.FOLD, species_seed=species_seed, use_val=True)\n",
    "\n",
    "x_train, y_train, id_train = t2_iter.load('train')\n",
    "x_valid, y_valid, id_valid = t2_iter.load('valid')"
   ]
  },
  {
   "cell_type": "code",
   "execution_count": null,
   "metadata": {},
   "outputs": [],
   "source": []
  },
  {
   "cell_type": "code",
   "execution_count": null,
   "metadata": {},
   "outputs": [],
   "source": [
    "n_list = list(range(2, 10, 1))\n",
    "metrics = {\n",
    "    'accuracy': [],\n",
    "    'f1': [],\n",
    "    'precision': [],\n",
    "    'recall': [],\n",
    "    'n': n_list\n",
    "}"
   ]
  },
  {
   "cell_type": "code",
   "execution_count": null,
   "metadata": {},
   "outputs": [],
   "source": [
    "from unknown.models.t3.garb import BinaryGaussianArbitrationClassifier\n",
    "import numpy as np\n",
    "import pandas as pd\n",
    "\n",
    "\n",
    "for n in n_list:\n",
    "    best_params = {\n",
    "        'unsure_lower_bound': 0.3,\n",
    "        'unsure_upper_bound': 0.9,\n",
    "        'n_components': n,\n",
    "        'unknown_frac': 0.1\n",
    "    }\n",
    "    # train model\n",
    "    clf = BinaryGaussianArbitrationClassifier(\n",
    "                    n_init=10, thresholding_method='percentile', \n",
    "                    random_state=cfg.SEED, **best_params)\n",
    "    clf.fit(x_train, y_train)\n",
    "\n",
    "    # predict\n",
    "    df = pd.DataFrame(x_valid)\n",
    "    df['probas'] = np.apply_along_axis(lambda row: sum(row)/len(row), axis=1, arr=x_valid)\n",
    "    df['preds'] = np.apply_along_axis(lambda row: int((sum(row)/len(row)) > 0.5), axis=1, arr=x_valid)\n",
    "    df['y'] = y_valid\n",
    "\n",
    "    df_unsure = df[(df.probas <= clf.unsure_upper_bound) & (df.probas >= clf.unsure_lower_bound)]\n",
    "    df_unsure_unknown = df_unsure[df_unsure.y == 1]\n",
    "    df_unsure_known = df_unsure[df_unsure.y == 0]\n",
    "\n",
    "    x_unsure = df_unsure.drop(columns=['probas', 'preds', 'y']).to_numpy()\n",
    "    x_unsure_unknown = df_unsure_unknown.drop(columns=['probas', 'preds', 'y']).to_numpy()\n",
    "    x_unsure_known = df_unsure_known.drop(columns=['probas', 'preds', 'y']).to_numpy()\n",
    "\n",
    "    scores = clf.gm.score_samples(x_unsure)\n",
    "    preds_unsure = (scores < clf.density_threshold)*1\n",
    "\n",
    "    df.iloc[df_unsure.index, df.columns.get_loc(\"preds\")] = preds_unsure\n",
    "\n",
    "    preds = df.preds.to_numpy()\n",
    "    \n",
    "    accuracy = accuracy_score(y_valid, preds)\n",
    "    # print(f\"Valid Accuracy: {accuracy}\")\n",
    "    metrics['accuracy'].append(accuracy)\n",
    "\n",
    "    f = f1_score(y_valid, preds)\n",
    "    # print(f\"Valid F1: {f}\")\n",
    "    metrics['f1'].append(f)\n",
    "\n",
    "    prec = precision_score(y_valid, preds)\n",
    "    # print(f\"Valid Precision: {prec}\")\n",
    "    metrics['precision'].append(prec)\n",
    "\n",
    "    rec = recall_score(y_valid, preds)\n",
    "    # print(f\"Valid Recall: {rec}\")\n",
    "    metrics['recall'].append(rec)\n",
    "print(\"Complete\")"
   ]
  },
  {
   "cell_type": "code",
   "execution_count": null,
   "metadata": {},
   "outputs": [],
   "source": [
    "fig, ((ax1, ax2), (ax3, ax4)) = plt.subplots(2, 2, sharex=True, sharey=True)\n",
    "fig.suptitle(\"Validation Metrics by n\")\n",
    "\n",
    "# Accuracy\n",
    "ax1.plot('n', 'accuracy', 'r--', data=metrics)\n",
    "ax1.set_xlabel('n')\n",
    "ax1.set_ylabel('accuracy')\n",
    "\n",
    "# F1\n",
    "ax2.plot('n', 'f1', 'b--', data=metrics)\n",
    "ax2.set_xlabel('n')\n",
    "ax2.set_ylabel('f1')\n",
    "\n",
    "# Precision\n",
    "ax3.plot('n', 'precision', 'g--', data=metrics)\n",
    "ax3.set_xlabel('n')\n",
    "ax3.set_ylabel('precision')\n",
    "\n",
    "# Recall\n",
    "ax4.plot('n', 'recall', 'm--', data=metrics)\n",
    "ax4.set_xlabel('n')\n",
    "ax4.set_ylabel('recall')\n",
    "\n",
    "\n",
    "plt.show()\n"
   ]
  },
  {
   "cell_type": "markdown",
   "metadata": {},
   "source": []
  },
  {
   "cell_type": "code",
   "execution_count": null,
   "metadata": {},
   "outputs": [],
   "source": []
  }
 ],
 "metadata": {
  "kernelspec": {
   "display_name": "Python 3 (ipykernel)",
   "language": "python",
   "name": "python3"
  },
  "language_info": {
   "codemirror_mode": {
    "name": "ipython",
    "version": 3
   },
   "file_extension": ".py",
   "mimetype": "text/x-python",
   "name": "python",
   "nbconvert_exporter": "python",
   "pygments_lexer": "ipython3",
   "version": "3.7.5"
  }
 },
 "nbformat": 4,
 "nbformat_minor": 2
}
